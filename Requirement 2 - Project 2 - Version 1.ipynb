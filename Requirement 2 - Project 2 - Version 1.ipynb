{
  "nbformat": 4,
  "nbformat_minor": 0,
  "metadata": {
    "colab": {
      "name": "Untitled0.ipynb",
      "provenance": []
    },
    "kernelspec": {
      "name": "python3",
      "display_name": "Python 3"
    },
    "language_info": {
      "name": "python"
    }
  },
  "cells": [
    {
      "cell_type": "code",
      "metadata": {
        "id": "_-n9p7fmvsF0"
      },
      "source": [
        "import os"
      ],
      "execution_count": 4,
      "outputs": []
    },
    {
      "cell_type": "code",
      "metadata": {
        "id": "60Uc-W-SvwuF"
      },
      "source": [
        "# Find the latest version of spark 3.0  from http://www-us.apache.org/dist/spark/ and enter as the spark version\n",
        "# For example:\n",
        "# spark_version = 'spark-3.0.2'\n",
        "spark_version = 'spark-3.1.1'\n",
        "os.environ['SPARK_VERSION']=spark_version"
      ],
      "execution_count": 5,
      "outputs": []
    },
    {
      "cell_type": "code",
      "metadata": {
        "colab": {
          "base_uri": "https://localhost:8080/"
        },
        "id": "w9gVK3j7v6pq",
        "outputId": "f4a78aff-caea-4335-c6b9-fbbbfa444c31"
      },
      "source": [
        "# Install Spark and Java\n",
        "!apt-get update\n",
        "!apt-get install openjdk-11-jdk-headless -qq > /dev/null\n",
        "!wget -q http://www-us.apache.org/dist/spark/$SPARK_VERSION/$SPARK_VERSION-bin-hadoop2.7.tgz\n",
        "!tar xf $SPARK_VERSION-bin-hadoop2.7.tgz\n",
        "!pip install -q findspark"
      ],
      "execution_count": 6,
      "outputs": [
        {
          "output_type": "stream",
          "text": [
            "\r0% [Working]\r            \rGet:1 https://cloud.r-project.org/bin/linux/ubuntu bionic-cran40/ InRelease [3,626 B]\n",
            "Ign:2 https://developer.download.nvidia.com/compute/cuda/repos/ubuntu1804/x86_64  InRelease\n",
            "Get:3 https://cloud.r-project.org/bin/linux/ubuntu bionic-cran40/ Packages [52.7 kB]\n",
            "Get:4 http://security.ubuntu.com/ubuntu bionic-security InRelease [88.7 kB]\n",
            "Get:5 http://ppa.launchpad.net/c2d4u.team/c2d4u4.0+/ubuntu bionic InRelease [15.9 kB]\n",
            "Hit:6 http://archive.ubuntu.com/ubuntu bionic InRelease\n",
            "Get:7 http://archive.ubuntu.com/ubuntu bionic-updates InRelease [88.7 kB]\n",
            "Ign:8 https://developer.download.nvidia.com/compute/machine-learning/repos/ubuntu1804/x86_64  InRelease\n",
            "Hit:9 https://developer.download.nvidia.com/compute/cuda/repos/ubuntu1804/x86_64  Release\n",
            "Hit:10 https://developer.download.nvidia.com/compute/machine-learning/repos/ubuntu1804/x86_64  Release\n",
            "Hit:11 http://ppa.launchpad.net/cran/libgit2/ubuntu bionic InRelease\n",
            "Get:14 http://archive.ubuntu.com/ubuntu bionic-backports InRelease [74.6 kB]\n",
            "Get:15 http://ppa.launchpad.net/deadsnakes/ppa/ubuntu bionic InRelease [15.9 kB]\n",
            "Get:16 http://security.ubuntu.com/ubuntu bionic-security/universe amd64 Packages [1,402 kB]\n",
            "Hit:17 http://ppa.launchpad.net/graphics-drivers/ppa/ubuntu bionic InRelease\n",
            "Get:18 http://archive.ubuntu.com/ubuntu bionic-updates/universe amd64 Packages [2,172 kB]\n",
            "Get:19 http://ppa.launchpad.net/c2d4u.team/c2d4u4.0+/ubuntu bionic/main Sources [1,750 kB]\n",
            "Get:20 http://security.ubuntu.com/ubuntu bionic-security/main amd64 Packages [2,045 kB]\n",
            "Get:21 http://archive.ubuntu.com/ubuntu bionic-updates/main amd64 Packages [2,476 kB]\n",
            "Get:22 http://ppa.launchpad.net/c2d4u.team/c2d4u4.0+/ubuntu bionic/main amd64 Packages [895 kB]\n",
            "Get:23 http://ppa.launchpad.net/deadsnakes/ppa/ubuntu bionic/main amd64 Packages [39.5 kB]\n",
            "Fetched 11.1 MB in 7s (1,582 kB/s)\n",
            "Reading package lists... Done\n"
          ],
          "name": "stdout"
        }
      ]
    },
    {
      "cell_type": "code",
      "metadata": {
        "id": "4Oe2hHrHw5pl"
      },
      "source": [
        "# Set Environment Variables\n",
        "os.environ[\"JAVA_HOME\"] = \"/usr/lib/jvm/java-11-openjdk-amd64\"\n",
        "os.environ[\"SPARK_HOME\"] = f\"/content/{spark_version}-bin-hadoop2.7\""
      ],
      "execution_count": 7,
      "outputs": []
    },
    {
      "cell_type": "code",
      "metadata": {
        "id": "9bPAmMsBwHSg"
      },
      "source": [
        "# Start a SparkSession\n",
        "import findspark\n",
        "findspark.init()"
      ],
      "execution_count": 8,
      "outputs": []
    },
    {
      "cell_type": "code",
      "metadata": {
        "id": "5MsPhxb8eLLq"
      },
      "source": [
        "#import packages\n",
        "\n",
        "from pyspark.sql import SparkSession\n",
        "from pyspark.sql import Row\n",
        "from pyspark.sql.types import StructType,StructField,StringType, DateType,IntegerType\n",
        "\n",
        "# we are going to use this to time our queries.\n",
        "import time\n",
        "\n",
        "# Create a SparkSession\n",
        "spark = SparkSession.builder.appName(\"SparkSQL\").getOrCreate()"
      ],
      "execution_count": 9,
      "outputs": []
    },
    {
      "cell_type": "code",
      "metadata": {
        "id": "X3Lx2tdMwxcW"
      },
      "source": [
        ""
      ],
      "execution_count": 11,
      "outputs": []
    },
    {
      "cell_type": "code",
      "metadata": {
        "id": "6Vaz9p-Nio_6"
      },
      "source": [
        "# Read in data from S3 Bucket\n",
        "from pyspark import SparkFiles\n",
        "url = \"https://2u-data-curriculum-team.s3.amazonaws.com/dataviz-netflix/titles_basic.csv\"\n",
        "spark.sparkContext.addFile(url)\n",
        "df = spark.read.csv(SparkFiles.get(\"titles_basic.csv\"), sep=\",\", header=True)"
      ],
      "execution_count": 40,
      "outputs": []
    },
    {
      "cell_type": "code",
      "metadata": {
        "id": "7LgdBRPmiv7q"
      },
      "source": [
        "\n",
        "df.createOrReplaceTempView('names')"
      ],
      "execution_count": 41,
      "outputs": []
    },
    {
      "cell_type": "code",
      "metadata": {
        "colab": {
          "base_uri": "https://localhost:8080/"
        },
        "id": "coY_CvvFjgCR",
        "outputId": "ba8496b7-d04d-4d5a-fea4-6a4f4633f338"
      },
      "source": [
        "df2 = spark.sql(\"SELECT * FROM names\")\n",
        "clean_professions_df=df2.drop(\"genres\",\"primarytitle\",\"isadult\", \"startyear\", \"endyear\", \"_c0\")\n",
        "clean_professions_df.show()\n"
      ],
      "execution_count": 66,
      "outputs": [
        {
          "output_type": "stream",
          "text": [
            "+---------+---------+--------------------+--------------+\n",
            "|   tconst|titletype|       originaltitle|runtimeminutes|\n",
            "+---------+---------+--------------------+--------------+\n",
            "|tt0439997|    movie|           500 Almas|         105.0|\n",
            "|tt0439999|tvSpecial|           80s Mania|          50.0|\n",
            "|tt0440003|    movie|         A1 tou tiao|          95.0|\n",
            "|tt0440004|  tvMovie| AD/BC: A Rock Opera|          30.0|\n",
            "|tt0440008|  tvMovie|Abbamania: We Say...|          50.0|\n",
            "|tt0440016|    movie|       Ah ma yau nan|          93.0|\n",
            "|tt0440022|  tvMovie|        Al atardecer|          66.0|\n",
            "|tt0440035|  tvMovie|      L'amour en pen|          52.0|\n",
            "|tt0440067|    movie|      Bau lit do see|          99.0|\n",
            "|tt0440078|  tvMovie|  The Band Aid Story|          95.0|\n",
            "|tt0440084|  tvMovie|A Beachcombers Ch...|         120.0|\n",
            "|tt0440149|    video|Blink 182: Punk P...|          61.0|\n",
            "|tt0440154|  tvMovie|Boogie special: 5...|          26.0|\n",
            "|tt0440155|  tvMovie|Boogie special: M...|          28.0|\n",
            "|tt0440157|tvSpecial|The British Comed...|         125.0|\n",
            "|tt0440158|    movie|      Broken Bridges|          96.0|\n",
            "|tt0440166|  tvMovie|      Bump and Grind|          46.0|\n",
            "|tt0440167|  tvMovie|   Burgers/Reizigers|          60.0|\n",
            "|tt0440174|    movie|CD Hoy: Portraits...|          48.0|\n",
            "|tt0440175|    movie|          Cabra-Cega|         107.0|\n",
            "+---------+---------+--------------------+--------------+\n",
            "only showing top 20 rows\n",
            "\n"
          ],
          "name": "stdout"
        }
      ]
    },
    {
      "cell_type": "code",
      "metadata": {
        "id": "FTQ6iwjMwLyo"
      },
      "source": [
        "# Read in data from S3 Bucket\n",
        "from pyspark import SparkFiles\n",
        "url = \"https://2u-data-curriculum-team.s3.amazonaws.com/dataviz-netflix/ratings.csv\"\n",
        "spark.sparkContext.addFile(url)\n",
        "df2 = spark.read.csv(SparkFiles.get(\"ratings.csv\"), sep=\",\", header=True)"
      ],
      "execution_count": 67,
      "outputs": []
    },
    {
      "cell_type": "code",
      "metadata": {
        "id": "WVwdX-xZjWII"
      },
      "source": [
        "df2.createOrReplaceTempView('ratings')"
      ],
      "execution_count": 68,
      "outputs": []
    },
    {
      "cell_type": "code",
      "metadata": {
        "colab": {
          "base_uri": "https://localhost:8080/"
        },
        "id": "h5WwvivO6_Hi",
        "outputId": "d426764d-4849-4cee-822d-5342e53fd85c"
      },
      "source": [
        "df2 = spark.sql(\"SELECT * FROM ratings\")\n",
        "clean_ratings_df=df2.drop(\"numvotes\")\n",
        "clean_ratings_df.show()"
      ],
      "execution_count": 69,
      "outputs": [
        {
          "output_type": "stream",
          "text": [
            "+---------+-------------+\n",
            "|   tconst|averagerating|\n",
            "+---------+-------------+\n",
            "|tt0214461|          7.4|\n",
            "|tt0214659|          6.0|\n",
            "|tt0214878|          6.1|\n",
            "|tt0215244|          3.0|\n",
            "|tt0215402|          8.1|\n",
            "|tt0215423|          8.1|\n",
            "|tt0215458|          5.6|\n",
            "|tt0215785|          5.3|\n",
            "|tt0215972|          5.5|\n",
            "|tt0216247|          8.1|\n",
            "|tt0216705|          7.0|\n",
            "|tt0217135|          5.9|\n",
            "|tt0217143|          6.5|\n",
            "|tt0217196|          7.4|\n",
            "|tt0217629|          7.0|\n",
            "|tt0217769|          5.8|\n",
            "|tt0217824|          6.3|\n",
            "|tt0217836|          2.5|\n",
            "|tt0218182|          6.3|\n",
            "|tt0218440|          6.0|\n",
            "+---------+-------------+\n",
            "only showing top 20 rows\n",
            "\n"
          ],
          "name": "stdout"
        }
      ]
    },
    {
      "cell_type": "code",
      "metadata": {
        "colab": {
          "base_uri": "https://localhost:8080/"
        },
        "id": "mvxkcjI0ubjb",
        "outputId": "59f874c7-12ba-4e3f-fd6a-d85ff553249b"
      },
      "source": [
        "complete_df = clean_professions_df.join(clean_ratings_df, on = ['tconst'])\n",
        "complete_df.show()"
      ],
      "execution_count": 70,
      "outputs": [
        {
          "output_type": "stream",
          "text": [
            "+---------+---------+--------------------+--------------+-------------+\n",
            "|   tconst|titletype|       originaltitle|runtimeminutes|averagerating|\n",
            "+---------+---------+--------------------+--------------+-------------+\n",
            "|tt0439997|    movie|           500 Almas|         105.0|          7.2|\n",
            "|tt0440003|    movie|         A1 tou tiao|          95.0|          5.9|\n",
            "|tt0440004|  tvMovie| AD/BC: A Rock Opera|          30.0|          7.4|\n",
            "|tt0440016|    movie|       Ah ma yau nan|          93.0|          5.5|\n",
            "|tt0440067|    movie|      Bau lit do see|          99.0|          5.4|\n",
            "|tt0440078|  tvMovie|  The Band Aid Story|          95.0|          8.1|\n",
            "|tt0440084|  tvMovie|A Beachcombers Ch...|         120.0|          7.0|\n",
            "|tt0440149|    video|Blink 182: Punk P...|          61.0|          4.1|\n",
            "|tt0440154|  tvMovie|Boogie special: 5...|          26.0|          1.0|\n",
            "|tt0440155|  tvMovie|Boogie special: M...|          28.0|          7.7|\n",
            "|tt0440157|tvSpecial|The British Comed...|         125.0|          6.2|\n",
            "|tt0440158|    movie|      Broken Bridges|          96.0|          7.9|\n",
            "|tt0440167|  tvMovie|   Burgers/Reizigers|          60.0|          6.3|\n",
            "|tt0440175|    movie|          Cabra-Cega|         107.0|          6.3|\n",
            "|tt0440186|    movie|            Cascalho|         104.0|          6.7|\n",
            "|tt0440192|  tvMovie|Celebrate the Sou...|          60.0|          7.6|\n",
            "|tt0440200|    movie|Cheng chong chui ...|          95.0|          5.5|\n",
            "|tt0440202|    video|The China Syndrom...|          28.0|          5.5|\n",
            "|tt0440203|    video|The China Syndrom...|          30.0|          4.9|\n",
            "|tt0440205|  tvMovie|    Christmas Lights|          68.0|          6.7|\n",
            "+---------+---------+--------------------+--------------+-------------+\n",
            "only showing top 20 rows\n",
            "\n"
          ],
          "name": "stdout"
        }
      ]
    },
    {
      "cell_type": "code",
      "metadata": {
        "colab": {
          "base_uri": "https://localhost:8080/"
        },
        "id": "XZBwBGeW_MMV",
        "outputId": "5ee16fef-8f31-4404-cef4-1bb4f05e4c33"
      },
      "source": [
        "from datetime import timedelta\n",
        "from pyspark.sql.functions import udf\n",
        "def minutesToHourMinutes(minuteString = \"0.0\"):\n",
        "  \n",
        "  \n",
        "  if minuteString:\n",
        "    minutesAsFloat = float(minuteString)\n",
        "    return str(timedelta(minutes=minutesAsFloat))[:-3]\n",
        "  else:\n",
        "    return \"0:0\"\n",
        "\n",
        "minutesToHourMinutesUdf = udf(lambda z: minutesToHourMinutes(z), StringType())\n",
        "spark.udf.register(\"minutesToHourMinutesUdf\", minutesToHourMinutesUdf)\n",
        "\n",
        "newTitleDf = complete_df.withColumn(\"formatted_hhmm\", minutesToHourMinutesUdf(\"runtimeminutes\"))\n",
        "newTitleDf.show()"
      ],
      "execution_count": 73,
      "outputs": [
        {
          "output_type": "stream",
          "text": [
            "+---------+---------+--------------------+--------------+-------------+--------------+\n",
            "|   tconst|titletype|       originaltitle|runtimeminutes|averagerating|formatted_hhmm|\n",
            "+---------+---------+--------------------+--------------+-------------+--------------+\n",
            "|tt0439997|    movie|           500 Almas|         105.0|          7.2|          1:45|\n",
            "|tt0440003|    movie|         A1 tou tiao|          95.0|          5.9|          1:35|\n",
            "|tt0440004|  tvMovie| AD/BC: A Rock Opera|          30.0|          7.4|          0:30|\n",
            "|tt0440016|    movie|       Ah ma yau nan|          93.0|          5.5|          1:33|\n",
            "|tt0440067|    movie|      Bau lit do see|          99.0|          5.4|          1:39|\n",
            "|tt0440078|  tvMovie|  The Band Aid Story|          95.0|          8.1|          1:35|\n",
            "|tt0440084|  tvMovie|A Beachcombers Ch...|         120.0|          7.0|          2:00|\n",
            "|tt0440149|    video|Blink 182: Punk P...|          61.0|          4.1|          1:01|\n",
            "|tt0440154|  tvMovie|Boogie special: 5...|          26.0|          1.0|          0:26|\n",
            "|tt0440155|  tvMovie|Boogie special: M...|          28.0|          7.7|          0:28|\n",
            "|tt0440157|tvSpecial|The British Comed...|         125.0|          6.2|          2:05|\n",
            "|tt0440158|    movie|      Broken Bridges|          96.0|          7.9|          1:36|\n",
            "|tt0440167|  tvMovie|   Burgers/Reizigers|          60.0|          6.3|          1:00|\n",
            "|tt0440175|    movie|          Cabra-Cega|         107.0|          6.3|          1:47|\n",
            "|tt0440186|    movie|            Cascalho|         104.0|          6.7|          1:44|\n",
            "|tt0440192|  tvMovie|Celebrate the Sou...|          60.0|          7.6|          1:00|\n",
            "|tt0440200|    movie|Cheng chong chui ...|          95.0|          5.5|          1:35|\n",
            "|tt0440202|    video|The China Syndrom...|          28.0|          5.5|          0:28|\n",
            "|tt0440203|    video|The China Syndrom...|          30.0|          4.9|          0:30|\n",
            "|tt0440205|  tvMovie|    Christmas Lights|          68.0|          6.7|          1:08|\n",
            "+---------+---------+--------------------+--------------+-------------+--------------+\n",
            "only showing top 20 rows\n",
            "\n"
          ],
          "name": "stdout"
        }
      ]
    },
    {
      "cell_type": "code",
      "metadata": {
        "id": "7z5f611e__rn"
      },
      "source": [
        ""
      ],
      "execution_count": 71,
      "outputs": []
    },
    {
      "cell_type": "code",
      "metadata": {
        "id": "m2x-YZcdCiQn"
      },
      "source": [
        ""
      ],
      "execution_count": null,
      "outputs": []
    }
  ]
}