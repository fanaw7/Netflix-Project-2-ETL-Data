{
  "nbformat": 4,
  "nbformat_minor": 0,
  "metadata": {
    "colab": {
      "name": "Brandon number 4.ipynb",
      "provenance": [],
      "collapsed_sections": [],
      "include_colab_link": true
    },
    "kernelspec": {
      "name": "python3",
      "display_name": "Python 3"
    },
    "language_info": {
      "name": "python"
    }
  },
  "cells": [
    {
      "cell_type": "markdown",
      "metadata": {
        "id": "view-in-github",
        "colab_type": "text"
      },
      "source": [
        "<a href=\"https://colab.research.google.com/github/andresalcaraaz/Netflix-Project-2-ETL-Data/blob/main/Brandon_number_4.ipynb\" target=\"_parent\"><img src=\"https://colab.research.google.com/assets/colab-badge.svg\" alt=\"Open In Colab\"/></a>"
      ]
    },
    {
      "cell_type": "code",
      "metadata": {
        "id": "4LVOMl3Su5u6"
      },
      "source": [
        "import os\n",
        "# Find the latest version of spark 3.0  from http://www-us.apache.org/dist/spark/ and enter as the spark version\n",
        "# For example:\n",
        "# spark_version = 'spark-3.0.2'\n",
        "spark_version = 'spark-3.1.1'\n",
        "os.environ['SPARK_VERSION']=spark_version\n"
      ],
      "execution_count": 9,
      "outputs": []
    },
    {
      "cell_type": "code",
      "metadata": {
        "colab": {
          "base_uri": "https://localhost:8080/"
        },
        "id": "URModj9UvF0k",
        "outputId": "13794669-b216-440c-ce87-048cc24e04dd"
      },
      "source": [
        "# Install Spark and Java\n",
        "!apt-get update\n",
        "!apt-get install openjdk-11-jdk-headless -qq > /dev/null\n",
        "!wget -q http://www-us.apache.org/dist/spark/$SPARK_VERSION/$SPARK_VERSION-bin-hadoop2.7.tgz\n",
        "!tar xf $SPARK_VERSION-bin-hadoop2.7.tgz\n",
        "!pip install -q findspark"
      ],
      "execution_count": 10,
      "outputs": [
        {
          "output_type": "stream",
          "text": [
            "\r0% [Working]\r            \rHit:1 http://security.ubuntu.com/ubuntu bionic-security InRelease\n",
            "\r0% [Connecting to archive.ubuntu.com] [Connected to cloud.r-project.org (99.86.\r0% [1 InRelease gpgv 88.7 kB] [Connecting to archive.ubuntu.com] [Connected to \r                                                                               \rHit:2 https://cloud.r-project.org/bin/linux/ubuntu bionic-cran40/ InRelease\n",
            "\r0% [1 InRelease gpgv 88.7 kB] [Connecting to archive.ubuntu.com] [Connecting to\r                                                                               \rIgn:3 https://developer.download.nvidia.com/compute/cuda/repos/ubuntu1804/x86_64  InRelease\n",
            "\r0% [1 InRelease gpgv 88.7 kB] [Connecting to archive.ubuntu.com (91.189.88.142)\r                                                                               \rHit:4 http://ppa.launchpad.net/c2d4u.team/c2d4u4.0+/ubuntu bionic InRelease\n",
            "\r0% [1 InRelease gpgv 88.7 kB] [Connecting to archive.ubuntu.com (91.189.88.142)\r                                                                               \rIgn:5 https://developer.download.nvidia.com/compute/machine-learning/repos/ubuntu1804/x86_64  InRelease\n",
            "\r0% [1 InRelease gpgv 88.7 kB] [Waiting for headers] [Connecting to ppa.launchpa\r                                                                               \rHit:6 https://developer.download.nvidia.com/compute/cuda/repos/ubuntu1804/x86_64  Release\n",
            "\r0% [1 InRelease gpgv 88.7 kB] [Waiting for headers] [Connecting to ppa.launchpa\r                                                                               \rHit:7 https://developer.download.nvidia.com/compute/machine-learning/repos/ubuntu1804/x86_64  Release\n",
            "Hit:8 http://archive.ubuntu.com/ubuntu bionic InRelease\n",
            "Hit:9 http://ppa.launchpad.net/cran/libgit2/ubuntu bionic InRelease\n",
            "Hit:10 http://archive.ubuntu.com/ubuntu bionic-updates InRelease\n",
            "Hit:11 http://archive.ubuntu.com/ubuntu bionic-backports InRelease\n",
            "Hit:12 http://ppa.launchpad.net/deadsnakes/ppa/ubuntu bionic InRelease\n",
            "Hit:13 http://ppa.launchpad.net/graphics-drivers/ppa/ubuntu bionic InRelease\n",
            "Reading package lists... Done\n"
          ],
          "name": "stdout"
        }
      ]
    },
    {
      "cell_type": "code",
      "metadata": {
        "id": "Jk2YQ45IvF6v"
      },
      "source": [
        "# Set Environment Variables\n",
        "os.environ[\"JAVA_HOME\"] = \"/usr/lib/jvm/java-11-openjdk-amd64\"\n",
        "os.environ[\"SPARK_HOME\"] = f\"/content/{spark_version}-bin-hadoop2.7\"\n",
        "# Start a SparkSession\n",
        "import findspark\n",
        "findspark.init()"
      ],
      "execution_count": 11,
      "outputs": []
    },
    {
      "cell_type": "code",
      "metadata": {
        "id": "MkXkI7xdwQIY"
      },
      "source": [
        "# Start Spark session\n",
        "from pyspark.sql import SparkSession\n",
        "spark = SparkSession.builder.appName(\"Running\").getOrCreate()"
      ],
      "execution_count": 12,
      "outputs": []
    },
    {
      "cell_type": "code",
      "metadata": {
        "id": "rlvwKY5zvF-s"
      },
      "source": [
        "# Read in data from S3 Buckets\n",
        "from pyspark import SparkFiles\n",
        "\n",
        "url = \"https://2u-data-curriculum-team.s3.amazonaws.com/dataviz-netflix/filteredPrincipals.csv\"\n",
        "spark.sparkContext.addFile(url)\n",
        "character = spark.read.csv(SparkFiles.get(\"filteredPrincipals.csv\"), sep=\",\", header=True)"
      ],
      "execution_count": 14,
      "outputs": []
    },
    {
      "cell_type": "code",
      "metadata": {
        "id": "nsqW3YiuxmXb"
      },
      "source": [
        "# Read in data from S4 Buckets\n",
        "\n",
        "url = \"https://2u-data-curriculum-team.s3.amazonaws.com/dataviz-netflix/filterNames.csv\"\n",
        "spark.sparkContext.addFile(url)\n",
        "film = spark.read.csv(SparkFiles.get(\"filterNames.csv\"), sep=\",\", header=True)"
      ],
      "execution_count": 15,
      "outputs": []
    },
    {
      "cell_type": "code",
      "metadata": {
        "id": "10VVGoWBvGBl"
      },
      "source": [
        "# Save CSV into DataFrame\n",
        "character = spark.read.csv(SparkFiles.get(\"filteredPrincipals.csv\"), sep=\",\", header=True)"
      ],
      "execution_count": 16,
      "outputs": []
    },
    {
      "cell_type": "code",
      "metadata": {
        "colab": {
          "base_uri": "https://localhost:8080/",
          "height": 656
        },
        "id": "tBrpYyRRzFyo",
        "outputId": "f3c94889-37b8-42c5-ab7a-72b4e8f905a8"
      },
      "source": [
        "# Save CSV into DataFrame\n",
        "character = spark.read.csv(SparkFiles.get(\"filteredPrincipals.csv\"), sep=\",\", header=True)\n",
        "# clean drop tconstant, job, ordering\n",
        "character = character.drop(\"tconst\",\"job\",\"ordering\")\n",
        "#  clean film drop deathyear and birthyear\n",
        "film = film.drop(\"deathyear\",\"birthyear\")\n",
        "#join tables on nconstant\n",
        "new = character.join(film, \"nconst\", \"outer\")\n",
        "# filter dataframe to only actor \n",
        "newest = new.filter(new[\"category\"] == \"actor\").show()\n",
        "#drop null values\n",
        "final = newest.dropna(how=\"any\").show(truncate=False)\n",
        "\n"
      ],
      "execution_count": 18,
      "outputs": [
        {
          "output_type": "stream",
          "text": [
            "+---------+--------+--------------------+-----------+--------------------+--------------------+---------+\n",
            "|   nconst|category|          characters|primaryname|   primaryprofession|      knownfortitles| knownFor|\n",
            "+---------+--------+--------------------+-----------+--------------------+--------------------+---------+\n",
            "|nm0000198|   actor|     \"[\"\"Solomon\"\"]\"|Gary Oldman|actor,soundtrack,...|tt1340800,tt04685...|tt1340800|\n",
            "|nm0000198|   actor|     \"[\"\"Solomon\"\"]\"|Gary Oldman|actor,soundtrack,...|tt1340800,tt04685...|tt0468569|\n",
            "|nm0000198|   actor|     \"[\"\"Solomon\"\"]\"|Gary Oldman|actor,soundtrack,...|tt1340800,tt04685...|tt4555426|\n",
            "|nm0000198|   actor|     \"[\"\"Solomon\"\"]\"|Gary Oldman|actor,soundtrack,...|tt1340800,tt04685...|tt1340800|\n",
            "|nm0000198|   actor|     \"[\"\"Solomon\"\"]\"|Gary Oldman|actor,soundtrack,...|tt1340800,tt04685...|tt0468569|\n",
            "|nm0000198|   actor|     \"[\"\"Solomon\"\"]\"|Gary Oldman|actor,soundtrack,...|tt1340800,tt04685...|tt4555426|\n",
            "|nm0000198|   actor|     \"[\"\"Solomon\"\"]\"|Gary Oldman|actor,soundtrack,...|tt1340800,tt04685...|tt1340800|\n",
            "|nm0000198|   actor|     \"[\"\"Solomon\"\"]\"|Gary Oldman|actor,soundtrack,...|tt1340800,tt04685...|tt0468569|\n",
            "|nm0000198|   actor|     \"[\"\"Solomon\"\"]\"|Gary Oldman|actor,soundtrack,...|tt1340800,tt04685...|tt4555426|\n",
            "|nm0000198|   actor|     \"[\"\"Solomon\"\"]\"|Gary Oldman|actor,soundtrack,...|tt1340800,tt04685...|tt1340800|\n",
            "|nm0000198|   actor|     \"[\"\"Solomon\"\"]\"|Gary Oldman|actor,soundtrack,...|tt1340800,tt04685...|tt0468569|\n",
            "|nm0000198|   actor|     \"[\"\"Solomon\"\"]\"|Gary Oldman|actor,soundtrack,...|tt1340800,tt04685...|tt4555426|\n",
            "|nm0000198|   actor|\"[\"\"Shelly Runyon...|Gary Oldman|actor,soundtrack,...|tt1340800,tt04685...|tt1340800|\n",
            "|nm0000198|   actor|\"[\"\"Shelly Runyon...|Gary Oldman|actor,soundtrack,...|tt1340800,tt04685...|tt0468569|\n",
            "|nm0000198|   actor|\"[\"\"Shelly Runyon...|Gary Oldman|actor,soundtrack,...|tt1340800,tt04685...|tt4555426|\n",
            "|nm0000198|   actor|\"[\"\"Shelly Runyon...|Gary Oldman|actor,soundtrack,...|tt1340800,tt04685...|tt1340800|\n",
            "|nm0000198|   actor|\"[\"\"Shelly Runyon...|Gary Oldman|actor,soundtrack,...|tt1340800,tt04685...|tt0468569|\n",
            "|nm0000198|   actor|\"[\"\"Shelly Runyon...|Gary Oldman|actor,soundtrack,...|tt1340800,tt04685...|tt4555426|\n",
            "|nm0000198|   actor|\"[\"\"Shelly Runyon...|Gary Oldman|actor,soundtrack,...|tt1340800,tt04685...|tt1340800|\n",
            "|nm0000198|   actor|\"[\"\"Shelly Runyon...|Gary Oldman|actor,soundtrack,...|tt1340800,tt04685...|tt0468569|\n",
            "+---------+--------+--------------------+-----------+--------------------+--------------------+---------+\n",
            "only showing top 20 rows\n",
            "\n"
          ],
          "name": "stdout"
        },
        {
          "output_type": "error",
          "ename": "AttributeError",
          "evalue": "ignored",
          "traceback": [
            "\u001b[0;31m---------------------------------------------------------------------------\u001b[0m",
            "\u001b[0;31mAttributeError\u001b[0m                            Traceback (most recent call last)",
            "\u001b[0;32m<ipython-input-18-1c0f67b02e04>\u001b[0m in \u001b[0;36m<module>\u001b[0;34m()\u001b[0m\n\u001b[1;32m     10\u001b[0m \u001b[0mnewest\u001b[0m \u001b[0;34m=\u001b[0m \u001b[0mnew\u001b[0m\u001b[0;34m.\u001b[0m\u001b[0mfilter\u001b[0m\u001b[0;34m(\u001b[0m\u001b[0mnew\u001b[0m\u001b[0;34m[\u001b[0m\u001b[0;34m\"category\"\u001b[0m\u001b[0;34m]\u001b[0m \u001b[0;34m==\u001b[0m \u001b[0;34m\"actor\"\u001b[0m\u001b[0;34m)\u001b[0m\u001b[0;34m.\u001b[0m\u001b[0mshow\u001b[0m\u001b[0;34m(\u001b[0m\u001b[0;34m)\u001b[0m\u001b[0;34m\u001b[0m\u001b[0;34m\u001b[0m\u001b[0m\n\u001b[1;32m     11\u001b[0m \u001b[0;31m#drop null values\u001b[0m\u001b[0;34m\u001b[0m\u001b[0;34m\u001b[0m\u001b[0;34m\u001b[0m\u001b[0m\n\u001b[0;32m---> 12\u001b[0;31m \u001b[0mfinal\u001b[0m \u001b[0;34m=\u001b[0m \u001b[0mnewest\u001b[0m\u001b[0;34m.\u001b[0m\u001b[0mdropna\u001b[0m\u001b[0;34m(\u001b[0m\u001b[0mhow\u001b[0m\u001b[0;34m=\u001b[0m\u001b[0;34m\"any\"\u001b[0m\u001b[0;34m)\u001b[0m\u001b[0;34m.\u001b[0m\u001b[0mshow\u001b[0m\u001b[0;34m(\u001b[0m\u001b[0mtruncate\u001b[0m\u001b[0;34m=\u001b[0m\u001b[0;32mFalse\u001b[0m\u001b[0;34m)\u001b[0m\u001b[0;34m\u001b[0m\u001b[0;34m\u001b[0m\u001b[0m\n\u001b[0m\u001b[1;32m     13\u001b[0m \u001b[0;34m\u001b[0m\u001b[0m\n",
            "\u001b[0;31mAttributeError\u001b[0m: 'NoneType' object has no attribute 'dropna'"
          ]
        }
      ]
    },
    {
      "cell_type": "code",
      "metadata": {
        "id": "z1YnFt7P6FeV"
      },
      "source": [
        ""
      ],
      "execution_count": null,
      "outputs": []
    },
    {
      "cell_type": "code",
      "metadata": {
        "colab": {
          "base_uri": "https://localhost:8080/"
        },
        "id": "JOpTU6Wl7Evt",
        "outputId": "11f14cb0-54a0-46eb-bcbb-87cf38d6bf6e"
      },
      "source": [
        "film = film.drop(\"deathyear\",\"birthyear\")\n",
        "film.show()"
      ],
      "execution_count": 19,
      "outputs": [
        {
          "output_type": "stream",
          "text": [
            "+---------+------------------+--------------------+--------------------+---------+\n",
            "|   nconst|       primaryname|   primaryprofession|      knownfortitles| knownFor|\n",
            "+---------+------------------+--------------------+--------------------+---------+\n",
            "|nm0458594|     Roger Kleiber|visual_effects,ed...|tt0405022,tt19579...|tt0497467|\n",
            "|nm0458601|        Mark Kleid|               actor|tt0105041,tt01120...|tt0277615|\n",
            "|nm0458616|      Mark Kleiman|editor,producer,m...|tt0196091,tt01256...|tt0972846|\n",
            "|nm0458617|   Michael Kleiman|camera_department...|tt0913354,tt04311...|tt0431197|\n",
            "|nm0458618|      Naum Kleiman|director,actor,wr...|tt3066262,tt64875...|tt3066262|\n",
            "|nm0458648|     Andreas Klein|producer,executiv...|tt0311429,tt03139...|tt0311429|\n",
            "|nm0458656|      Arthur Klein|editorial_departm...|tt0106925,tt13375...|tt1337579|\n",
            "|nm0458664|        Bart Klein|               actor|tt0830854,tt03064...|tt0306413|\n",
            "|nm0458674|Bonnie Sherr Klein|director,producer...|tt0227531,tt02242...|tt5492464|\n",
            "|nm0458680|       Butch Klein| actor,miscellaneous|tt7255502,tt04417...|tt3609352|\n",
            "|nm0458680|       Butch Klein| actor,miscellaneous|tt7255502,tt04417...|tt0285331|\n",
            "|nm0458690|    Cathleen Klein|visual_effects,sp...|tt4154796,tt18256...|tt1825683|\n",
            "|nm0458690|    Cathleen Klein|visual_effects,sp...|tt4154796,tt18256...|tt1843866|\n",
            "|nm0458719|     Dietmar Klein|director,writer,c...|tt0100652,tt01203...|tt0330426|\n",
            "|nm0458723|    E. Niles Klein|    sound_department|tt0285531,tt10534...|tt0285531|\n",
            "|nm0458723|    E. Niles Klein|    sound_department|tt0285531,tt10534...|tt0431197|\n",
            "|nm0458728|      Edward Klein|                null|tt9170254,tt36511...|tt3651106|\n",
            "|nm0458734| Ellyn Klein Golub|miscellaneous,pro...|tt2262227,tt02683...|tt0268397|\n",
            "|nm0458747|       Frank Klein|miscellaneous,pro...|tt0297284,tt18953...|tt0297284|\n",
            "|nm0458750|        Gary Klein|music_department,...|tt0082958,tt00775...|tt0249238|\n",
            "+---------+------------------+--------------------+--------------------+---------+\n",
            "only showing top 20 rows\n",
            "\n"
          ],
          "name": "stdout"
        }
      ]
    },
    {
      "cell_type": "code",
      "metadata": {
        "id": "Td717mdYzS8a"
      },
      "source": [
        "\n",
        "#join tables on nconstant\n",
        "new = character.join(film, \"nconst\", \"outer\")"
      ],
      "execution_count": 20,
      "outputs": []
    },
    {
      "cell_type": "code",
      "metadata": {
        "colab": {
          "base_uri": "https://localhost:8080/"
        },
        "id": "LLhPzXLYzvj1",
        "outputId": "a373df2e-13ab-4858-e975-864fee6f9aca"
      },
      "source": [
        "#sort on character names \n",
        "new.show() "
      ],
      "execution_count": 21,
      "outputs": [
        {
          "output_type": "stream",
          "text": [
            "+---------+---------------+--------------------+-----------+-----------------+--------------+--------+\n",
            "|   nconst|       category|          characters|primaryname|primaryprofession|knownfortitles|knownFor|\n",
            "+---------+---------------+--------------------+-----------+-----------------+--------------+--------+\n",
            "|nm0000086|archive_footage|        \"[\"\"Self\"\"]\"|       null|             null|          null|    null|\n",
            "|nm0000086|archive_footage|        \"[\"\"Self\"\"]\"|       null|             null|          null|    null|\n",
            "|nm0000086|archive_footage|        \"[\"\"Self\"\"]\"|       null|             null|          null|    null|\n",
            "|nm0000086|archive_footage|        \"[\"\"Self\"\"]\"|       null|             null|          null|    null|\n",
            "|nm0000086|archive_footage|        \"[\"\"Self\"\"]\"|       null|             null|          null|    null|\n",
            "|nm0000086|archive_footage|        \"[\"\"Self\"\"]\"|       null|             null|          null|    null|\n",
            "|nm0000086|archive_footage|        \"[\"\"Self\"\"]\"|       null|             null|          null|    null|\n",
            "|nm0000086|archive_footage|        \"[\"\"Self\"\"]\"|       null|             null|          null|    null|\n",
            "|nm0000086|archive_footage|        \"[\"\"Self\"\"]\"|       null|             null|          null|    null|\n",
            "|nm0000086|archive_footage|        \"[\"\"Self\"\"]\"|       null|             null|          null|    null|\n",
            "|nm0000086|archive_footage|        \"[\"\"Self\"\"]\"|       null|             null|          null|    null|\n",
            "|nm0000086|archive_footage|        \"[\"\"Self\"\"]\"|       null|             null|          null|    null|\n",
            "|nm0000086|archive_footage|\"[\"\"Victor Pivert...|       null|             null|          null|    null|\n",
            "|nm0000086|archive_footage|\"[\"\"Victor Pivert...|       null|             null|          null|    null|\n",
            "|nm0000086|archive_footage|\"[\"\"Victor Pivert...|       null|             null|          null|    null|\n",
            "|nm0000086|archive_footage|\"[\"\"Victor Pivert...|       null|             null|          null|    null|\n",
            "|nm0000086|archive_footage|        \"[\"\"Self\"\"]\"|       null|             null|          null|    null|\n",
            "|nm0000086|archive_footage|        \"[\"\"Self\"\"]\"|       null|             null|          null|    null|\n",
            "|nm0000086|archive_footage|        \"[\"\"Self\"\"]\"|       null|             null|          null|    null|\n",
            "|nm0000086|archive_footage|        \"[\"\"Self\"\"]\"|       null|             null|          null|    null|\n",
            "+---------+---------------+--------------------+-----------+-----------------+--------------+--------+\n",
            "only showing top 20 rows\n",
            "\n"
          ],
          "name": "stdout"
        }
      ]
    },
    {
      "cell_type": "code",
      "metadata": {
        "colab": {
          "base_uri": "https://localhost:8080/"
        },
        "id": "P9DmrYuhbnPI",
        "outputId": "cf71fe4a-c316-4f91-e244-8965ccdbcfcc"
      },
      "source": [
        "# filter dataframe to only actor and actresses\n",
        "newest = new.filter(new[\"category\"] == \"actor\").show()"
      ],
      "execution_count": 22,
      "outputs": [
        {
          "output_type": "stream",
          "text": [
            "+---------+--------+--------------------+-----------+--------------------+--------------------+---------+\n",
            "|   nconst|category|          characters|primaryname|   primaryprofession|      knownfortitles| knownFor|\n",
            "+---------+--------+--------------------+-----------+--------------------+--------------------+---------+\n",
            "|nm0000198|   actor|     \"[\"\"Solomon\"\"]\"|Gary Oldman|actor,soundtrack,...|tt1340800,tt04685...|tt1340800|\n",
            "|nm0000198|   actor|     \"[\"\"Solomon\"\"]\"|Gary Oldman|actor,soundtrack,...|tt1340800,tt04685...|tt0468569|\n",
            "|nm0000198|   actor|     \"[\"\"Solomon\"\"]\"|Gary Oldman|actor,soundtrack,...|tt1340800,tt04685...|tt4555426|\n",
            "|nm0000198|   actor|     \"[\"\"Solomon\"\"]\"|Gary Oldman|actor,soundtrack,...|tt1340800,tt04685...|tt1340800|\n",
            "|nm0000198|   actor|     \"[\"\"Solomon\"\"]\"|Gary Oldman|actor,soundtrack,...|tt1340800,tt04685...|tt0468569|\n",
            "|nm0000198|   actor|     \"[\"\"Solomon\"\"]\"|Gary Oldman|actor,soundtrack,...|tt1340800,tt04685...|tt4555426|\n",
            "|nm0000198|   actor|     \"[\"\"Solomon\"\"]\"|Gary Oldman|actor,soundtrack,...|tt1340800,tt04685...|tt1340800|\n",
            "|nm0000198|   actor|     \"[\"\"Solomon\"\"]\"|Gary Oldman|actor,soundtrack,...|tt1340800,tt04685...|tt0468569|\n",
            "|nm0000198|   actor|     \"[\"\"Solomon\"\"]\"|Gary Oldman|actor,soundtrack,...|tt1340800,tt04685...|tt4555426|\n",
            "|nm0000198|   actor|     \"[\"\"Solomon\"\"]\"|Gary Oldman|actor,soundtrack,...|tt1340800,tt04685...|tt1340800|\n",
            "|nm0000198|   actor|     \"[\"\"Solomon\"\"]\"|Gary Oldman|actor,soundtrack,...|tt1340800,tt04685...|tt0468569|\n",
            "|nm0000198|   actor|     \"[\"\"Solomon\"\"]\"|Gary Oldman|actor,soundtrack,...|tt1340800,tt04685...|tt4555426|\n",
            "|nm0000198|   actor|\"[\"\"Shelly Runyon...|Gary Oldman|actor,soundtrack,...|tt1340800,tt04685...|tt1340800|\n",
            "|nm0000198|   actor|\"[\"\"Shelly Runyon...|Gary Oldman|actor,soundtrack,...|tt1340800,tt04685...|tt0468569|\n",
            "|nm0000198|   actor|\"[\"\"Shelly Runyon...|Gary Oldman|actor,soundtrack,...|tt1340800,tt04685...|tt4555426|\n",
            "|nm0000198|   actor|\"[\"\"Shelly Runyon...|Gary Oldman|actor,soundtrack,...|tt1340800,tt04685...|tt1340800|\n",
            "|nm0000198|   actor|\"[\"\"Shelly Runyon...|Gary Oldman|actor,soundtrack,...|tt1340800,tt04685...|tt0468569|\n",
            "|nm0000198|   actor|\"[\"\"Shelly Runyon...|Gary Oldman|actor,soundtrack,...|tt1340800,tt04685...|tt4555426|\n",
            "|nm0000198|   actor|\"[\"\"Shelly Runyon...|Gary Oldman|actor,soundtrack,...|tt1340800,tt04685...|tt1340800|\n",
            "|nm0000198|   actor|\"[\"\"Shelly Runyon...|Gary Oldman|actor,soundtrack,...|tt1340800,tt04685...|tt0468569|\n",
            "+---------+--------+--------------------+-----------+--------------------+--------------------+---------+\n",
            "only showing top 20 rows\n",
            "\n"
          ],
          "name": "stdout"
        }
      ]
    },
    {
      "cell_type": "code",
      "metadata": {
        "colab": {
          "base_uri": "https://localhost:8080/",
          "height": 163
        },
        "id": "ZqVrN8wF0O_s",
        "outputId": "aefdcdbf-bef4-45ae-8240-5d0ec313b653"
      },
      "source": [
        "newest.dropna().show(False)"
      ],
      "execution_count": 24,
      "outputs": [
        {
          "output_type": "error",
          "ename": "AttributeError",
          "evalue": "ignored",
          "traceback": [
            "\u001b[0;31m---------------------------------------------------------------------------\u001b[0m",
            "\u001b[0;31mAttributeError\u001b[0m                            Traceback (most recent call last)",
            "\u001b[0;32m<ipython-input-24-a579b6e09aa2>\u001b[0m in \u001b[0;36m<module>\u001b[0;34m()\u001b[0m\n\u001b[0;32m----> 1\u001b[0;31m \u001b[0mnewest\u001b[0m\u001b[0;34m.\u001b[0m\u001b[0mdropna\u001b[0m\u001b[0;34m(\u001b[0m\u001b[0;34m)\u001b[0m\u001b[0;34m.\u001b[0m\u001b[0mshow\u001b[0m\u001b[0;34m(\u001b[0m\u001b[0;32mFalse\u001b[0m\u001b[0;34m)\u001b[0m\u001b[0;34m\u001b[0m\u001b[0;34m\u001b[0m\u001b[0m\n\u001b[0m",
            "\u001b[0;31mAttributeError\u001b[0m: 'NoneType' object has no attribute 'dropna'"
          ]
        }
      ]
    },
    {
      "cell_type": "code",
      "metadata": {
        "id": "oVFhwWAa0NlF"
      },
      "source": [
        ""
      ],
      "execution_count": null,
      "outputs": []
    }
  ]
}