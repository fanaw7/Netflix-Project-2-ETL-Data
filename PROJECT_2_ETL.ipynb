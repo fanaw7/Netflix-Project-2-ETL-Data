{
  "nbformat": 4,
  "nbformat_minor": 0,
  "metadata": {
    "colab": {
      "name": "PROJECT-2-ETL.ipynb",
      "provenance": [],
      "collapsed_sections": [],
      "authorship_tag": "ABX9TyM71jQ3tAhsKtpFxEcjvQW4",
      "include_colab_link": true
    },
    "kernelspec": {
      "name": "python3",
      "display_name": "Python 3"
    },
    "language_info": {
      "name": "python"
    }
  },
  "cells": [
    {
      "cell_type": "markdown",
      "metadata": {
        "id": "view-in-github",
        "colab_type": "text"
      },
      "source": [
        "<a href=\"https://colab.research.google.com/github/andresalcaraaz/Netflix-Project-2-ETL-Data/blob/main/PROJECT_2_ETL.ipynb\" target=\"_parent\"><img src=\"https://colab.research.google.com/assets/colab-badge.svg\" alt=\"Open In Colab\"/></a>"
      ]
    },
    {
      "cell_type": "code",
      "metadata": {
        "colab": {
          "base_uri": "https://localhost:8080/"
        },
        "id": "EHDQENsgPLo-",
        "outputId": "196c013a-8b70-447a-e48c-12ffbfe0ec43"
      },
      "source": [
        "# activate Spark in our Colab notebook.\n",
        "import os\n",
        "# Find the latest version of spark 3.0  from http://www-us.apache.org/dist/spark/ and enter as the spark version\n",
        "# For example:\n",
        "spark_version = 'spark-3.1.1'\n",
        "# spark_version = 'spark-3.<enter version>'\n",
        "os.environ['SPARK_VERSION']=spark_version\n",
        "\n",
        "# Install Spark and Java\n",
        "!apt-get update\n",
        "!apt-get install openjdk-11-jdk-headless -qq > /dev/null\n",
        "!wget -q http://www-us.apache.org/dist/spark/$SPARK_VERSION/$SPARK_VERSION-bin-hadoop2.7.tgz\n",
        "!tar xf $SPARK_VERSION-bin-hadoop2.7.tgz\n",
        "!pip install -q findspark\n",
        "\n",
        "# Set Environment Variables\n",
        "os.environ[\"JAVA_HOME\"] = \"/usr/lib/jvm/java-11-openjdk-amd64\"\n",
        "os.environ[\"SPARK_HOME\"] = f\"/content/{spark_version}-bin-hadoop2.7\"\n",
        "\n",
        "# Start a SparkSession\n",
        "import findspark\n",
        "findspark.init()"
      ],
      "execution_count": 2,
      "outputs": [
        {
          "output_type": "stream",
          "text": [
            "\r0% [Working]\r            \rGet:1 http://ppa.launchpad.net/c2d4u.team/c2d4u4.0+/ubuntu bionic InRelease [15.9 kB]\n",
            "\r0% [Waiting for headers] [Waiting for headers] [Connected to cloud.r-project.or\r                                                                               \rGet:2 http://security.ubuntu.com/ubuntu bionic-security InRelease [88.7 kB]\n",
            "\r0% [Waiting for headers] [2 InRelease 14.2 kB/88.7 kB 16%] [Connected to cloud.\r                                                                               \rHit:3 http://archive.ubuntu.com/ubuntu bionic InRelease\n",
            "\r0% [2 InRelease 88.7 kB/88.7 kB 100%] [Connected to cloud.r-project.org (13.227\r                                                                               \rGet:4 http://archive.ubuntu.com/ubuntu bionic-updates InRelease [88.7 kB]\n",
            "\r                                                                               \rGet:5 https://cloud.r-project.org/bin/linux/ubuntu bionic-cran40/ InRelease [3,626 B]\n",
            "\r                                                                               \rHit:6 http://ppa.launchpad.net/cran/libgit2/ubuntu bionic InRelease\n",
            "\r0% [4 InRelease 88.7 kB/88.7 kB 100%] [Waiting for headers] [Waiting for header\r0% [3 InRelease gpgv 242 kB] [4 InRelease 88.7 kB/88.7 kB 100%] [Waiting for he\r                                                                               \r0% [3 InRelease gpgv 242 kB] [Waiting for headers] [Waiting for headers]\r                                                                        \rGet:7 http://ppa.launchpad.net/deadsnakes/ppa/ubuntu bionic InRelease [15.9 kB]\n",
            "\r0% [3 InRelease gpgv 242 kB] [Waiting for headers] [7 InRelease 2,572 B/15.9 kB\r                                                                               \rGet:8 http://archive.ubuntu.com/ubuntu bionic-backports InRelease [74.6 kB]\n",
            "\r0% [3 InRelease gpgv 242 kB] [8 InRelease 9,844 B/74.6 kB 13%] [7 InRelease 11.\r0% [3 InRelease gpgv 242 kB] [8 InRelease 74.6 kB/74.6 kB 100%] [Connecting to \r0% [3 InRelease gpgv 242 kB] [Connecting to ppa.launchpad.net (91.189.95.85)] [\r                                                                               \rHit:9 http://ppa.launchpad.net/graphics-drivers/ppa/ubuntu bionic InRelease\n",
            "Ign:10 https://developer.download.nvidia.com/compute/cuda/repos/ubuntu1804/x86_64  InRelease\n",
            "Ign:11 https://developer.download.nvidia.com/compute/machine-learning/repos/ubuntu1804/x86_64  InRelease\n",
            "Hit:12 https://developer.download.nvidia.com/compute/cuda/repos/ubuntu1804/x86_64  Release\n",
            "Hit:13 https://developer.download.nvidia.com/compute/machine-learning/repos/ubuntu1804/x86_64  Release\n",
            "Get:14 http://security.ubuntu.com/ubuntu bionic-security/universe amd64 Packages [1,402 kB]\n",
            "Get:15 http://security.ubuntu.com/ubuntu bionic-security/main amd64 Packages [2,045 kB]\n",
            "Get:16 https://cloud.r-project.org/bin/linux/ubuntu bionic-cran40/ Packages [52.7 kB]\n",
            "Get:17 http://ppa.launchpad.net/c2d4u.team/c2d4u4.0+/ubuntu bionic/main Sources [1,750 kB]\n",
            "Get:18 http://ppa.launchpad.net/c2d4u.team/c2d4u4.0+/ubuntu bionic/main amd64 Packages [895 kB]\n",
            "Get:19 http://archive.ubuntu.com/ubuntu bionic-updates/main amd64 Packages [2,476 kB]\n",
            "Get:20 http://archive.ubuntu.com/ubuntu bionic-updates/universe amd64 Packages [2,173 kB]\n",
            "Get:21 http://ppa.launchpad.net/deadsnakes/ppa/ubuntu bionic/main amd64 Packages [39.5 kB]\n",
            "Fetched 11.1 MB in 3s (4,077 kB/s)\n",
            "Reading package lists... Done\n"
          ],
          "name": "stdout"
        }
      ]
    },
    {
      "cell_type": "code",
      "metadata": {
        "id": "Xd8u7Jq3PNVV"
      },
      "source": [
        "#import packages\n",
        "\n",
        "from pyspark.sql import SparkSession\n",
        "from pyspark.sql import Row\n",
        "from pyspark.sql.types import StructType,StructField,StringType, DateType,IntegerType\n",
        "\n",
        "# we are going to use this to time our queries.\n",
        "import time\n",
        "\n",
        "# Create a SparkSession\n",
        "spark = SparkSession.builder.appName(\"SparkSQL\").getOrCreate()"
      ],
      "execution_count": 3,
      "outputs": []
    },
    {
      "cell_type": "code",
      "metadata": {
        "id": "DfYexQiWPWG3"
      },
      "source": [
        "# Read in data from S3 Bucket\n",
        "from pyspark import SparkFiles\n",
        "url = \"https://2u-data-curriculum-team.s3.amazonaws.com/dataviz-netflix/filterNames.csv\"\n",
        "spark.sparkContext.addFile(url)\n",
        "df = spark.read.csv(SparkFiles.get(\"filterNames.csv\"), sep=\",\", header=True)"
      ],
      "execution_count": 4,
      "outputs": []
    },
    {
      "cell_type": "code",
      "metadata": {
        "id": "Nx11wO2kPavo",
        "colab": {
          "base_uri": "https://localhost:8080/"
        },
        "outputId": "1635a4e7-16b4-48b9-90dd-1cf0dcd7babd"
      },
      "source": [
        "df.createOrReplaceTempView('names')\n",
        "df.show()"
      ],
      "execution_count": 5,
      "outputs": [
        {
          "output_type": "stream",
          "text": [
            "+---------+------------------+---------+---------+--------------------+--------------------+---------+\n",
            "|   nconst|       primaryname|birthyear|deathyear|   primaryprofession|      knownfortitles| knownFor|\n",
            "+---------+------------------+---------+---------+--------------------+--------------------+---------+\n",
            "|nm0458594|     Roger Kleiber|     null|     null|visual_effects,ed...|tt0405022,tt19579...|tt0497467|\n",
            "|nm0458601|        Mark Kleid|     null|     null|               actor|tt0105041,tt01120...|tt0277615|\n",
            "|nm0458616|      Mark Kleiman|     null|     null|editor,producer,m...|tt0196091,tt01256...|tt0972846|\n",
            "|nm0458617|   Michael Kleiman|     1969|     null|camera_department...|tt0913354,tt04311...|tt0431197|\n",
            "|nm0458618|      Naum Kleiman|     1937|     null|director,actor,wr...|tt3066262,tt64875...|tt3066262|\n",
            "|nm0458648|     Andreas Klein|     null|     null|producer,executiv...|tt0311429,tt03139...|tt0311429|\n",
            "|nm0458656|      Arthur Klein|     null|     null|editorial_departm...|tt0106925,tt13375...|tt1337579|\n",
            "|nm0458664|        Bart Klein|     null|     null|               actor|tt0830854,tt03064...|tt0306413|\n",
            "|nm0458674|Bonnie Sherr Klein|     1941|     null|director,producer...|tt0227531,tt02242...|tt5492464|\n",
            "|nm0458680|       Butch Klein|     null|     null| actor,miscellaneous|tt7255502,tt04417...|tt3609352|\n",
            "|nm0458680|       Butch Klein|     null|     null| actor,miscellaneous|tt7255502,tt04417...|tt0285331|\n",
            "|nm0458690|    Cathleen Klein|     null|     null|visual_effects,sp...|tt4154796,tt18256...|tt1825683|\n",
            "|nm0458690|    Cathleen Klein|     null|     null|visual_effects,sp...|tt4154796,tt18256...|tt1843866|\n",
            "|nm0458719|     Dietmar Klein|     1956|     null|director,writer,c...|tt0100652,tt01203...|tt0330426|\n",
            "|nm0458723|    E. Niles Klein|     null|     null|    sound_department|tt0285531,tt10534...|tt0285531|\n",
            "|nm0458723|    E. Niles Klein|     null|     null|    sound_department|tt0285531,tt10534...|tt0431197|\n",
            "|nm0458728|      Edward Klein|     1936|     null|                null|tt9170254,tt36511...|tt3651106|\n",
            "|nm0458734| Ellyn Klein Golub|     null|     null|miscellaneous,pro...|tt2262227,tt02683...|tt0268397|\n",
            "|nm0458747|       Frank Klein|     null|     null|miscellaneous,pro...|tt0297284,tt18953...|tt0297284|\n",
            "|nm0458750|        Gary Klein|     null|     null|music_department,...|tt0082958,tt00775...|tt0249238|\n",
            "+---------+------------------+---------+---------+--------------------+--------------------+---------+\n",
            "only showing top 20 rows\n",
            "\n"
          ],
          "name": "stdout"
        }
      ]
    },
    {
      "cell_type": "code",
      "metadata": {
        "colab": {
          "base_uri": "https://localhost:8080/"
        },
        "id": "nZORZbuIzLCX",
        "outputId": "e1106408-4f7a-444e-8fb7-85a95b4376f2"
      },
      "source": [
        "###################### Requirement 1 #############################\n",
        "spark.sql(\n",
        "\"\"\"\n",
        "select DISTINCT primaryname\n",
        "      ,primaryprofession\n",
        "      ,birthyear\n",
        "      ,deathyear\n",
        "      ,(year(CURRENT_DATE()) - birthyear) as age\n",
        "      ,deathyear\n",
        "      ,case when deathyear is null and (year(CURRENT_DATE()) - birthyear) < 120 then true\n",
        "            else false\n",
        "       end as is_alive\n",
        "  from names\n",
        " where (primaryprofession like '%actor%'\n",
        "       or primaryprofession like '%actress%') \n",
        "\"\"\").show(20)"
      ],
      "execution_count": 6,
      "outputs": [
        {
          "output_type": "stream",
          "text": [
            "+--------------------+--------------------+---------+---------+----+---------+--------+\n",
            "|         primaryname|   primaryprofession|birthyear|deathyear| age|deathyear|is_alive|\n",
            "+--------------------+--------------------+---------+---------+----+---------+--------+\n",
            "|Marcela Kloosterboer|  actress,soundtrack|     1983|     null|38.0|     null|    true|\n",
            "|        Sylvia Klein|             actress|     null|     null|null|     null|   false|\n",
            "|     Walter Klenhard|writer,actor,dire...|     null|     null|null|     null|   false|\n",
            "|       Nick Raffaele|actor,sound_depar...|     null|     null|null|     null|   false|\n",
            "|       Stef Zamorano|             actress|     null|     null|null|     null|   false|\n",
            "|         Kevin Beyer|               actor|     null|     null|null|     null|   false|\n",
            "|       Vincent Mosso|               actor|     null|     null|null|     null|   false|\n",
            "|       Sofia Marques|actress,director,...|     null|     null|null|     null|   false|\n",
            "|    Rebecca Charnley|             actress|     null|     null|null|     null|   false|\n",
            "|    Brigitte Chardin|             actress|     null|     null|null|     null|   false|\n",
            "|  Lollusabha Manohar|               actor|     null|     null|null|     null|   false|\n",
            "|      Charles Arnone|transportation_de...|     null|     null|null|     null|   false|\n",
            "|       Shelley Darcy|               actor|     null|     null|null|     null|   false|\n",
            "|     Ramaz Chiaureli|               actor|     null|     null|null|     null|   false|\n",
            "|        Ronnie Myers|               actor|     null|     null|null|     null|   false|\n",
            "|Moustafa Abdel Salam|actor,writer,comp...|     null|     null|null|     null|   false|\n",
            "|      Fernando Reule|visual_effects,ac...|     null|     null|null|     null|   false|\n",
            "|    Dominic Syracuse|               actor|     null|     null|null|     null|   false|\n",
            "|        Caesar James|               actor|     null|     null|null|     null|   false|\n",
            "|   Marguerite Foster|    actress,producer|     null|     null|null|     null|   false|\n",
            "+--------------------+--------------------+---------+---------+----+---------+--------+\n",
            "only showing top 20 rows\n",
            "\n"
          ],
          "name": "stdout"
        }
      ]
    },
    {
      "cell_type": "code",
      "metadata": {
        "id": "Z5rmqqMWPmyu"
      },
      "source": [
        "####################### Requirement 2 ##################################\n",
        "from pyspark import SparkFiles\n",
        "url = \"https://2u-data-curriculum-team.s3.amazonaws.com/dataviz-netflix/titles_basic.csv\"\n",
        "spark.sparkContext.addFile(url)\n",
        "df = spark.read.csv(SparkFiles.get(\"titles_basic.csv\"), sep=\",\", header=True)"
      ],
      "execution_count": 7,
      "outputs": []
    },
    {
      "cell_type": "code",
      "metadata": {
        "id": "AzVa8e2AjGE0"
      },
      "source": [
        "df.createOrReplaceTempView('names2')"
      ],
      "execution_count": 8,
      "outputs": []
    },
    {
      "cell_type": "code",
      "metadata": {
        "id": "dLC2MCLdcqz2",
        "colab": {
          "base_uri": "https://localhost:8080/"
        },
        "outputId": "2b7ea571-3fe1-4748-83f9-30d319c74bad"
      },
      "source": [
        "df2 = spark.sql(\"SELECT * FROM names2\")\n",
        "clean_professions_df=df2.drop(\"genres\",\"primarytitle\",\"isadult\", \"startyear\", \"endyear\", \"_c0\")\n",
        "clean_professions_df.show()"
      ],
      "execution_count": 9,
      "outputs": [
        {
          "output_type": "stream",
          "text": [
            "+---------+---------+--------------------+--------------+\n",
            "|   tconst|titletype|       originaltitle|runtimeminutes|\n",
            "+---------+---------+--------------------+--------------+\n",
            "|tt0439997|    movie|           500 Almas|         105.0|\n",
            "|tt0439999|tvSpecial|           80s Mania|          50.0|\n",
            "|tt0440003|    movie|         A1 tou tiao|          95.0|\n",
            "|tt0440004|  tvMovie| AD/BC: A Rock Opera|          30.0|\n",
            "|tt0440008|  tvMovie|Abbamania: We Say...|          50.0|\n",
            "|tt0440016|    movie|       Ah ma yau nan|          93.0|\n",
            "|tt0440022|  tvMovie|        Al atardecer|          66.0|\n",
            "|tt0440035|  tvMovie|      L'amour en pen|          52.0|\n",
            "|tt0440067|    movie|      Bau lit do see|          99.0|\n",
            "|tt0440078|  tvMovie|  The Band Aid Story|          95.0|\n",
            "|tt0440084|  tvMovie|A Beachcombers Ch...|         120.0|\n",
            "|tt0440149|    video|Blink 182: Punk P...|          61.0|\n",
            "|tt0440154|  tvMovie|Boogie special: 5...|          26.0|\n",
            "|tt0440155|  tvMovie|Boogie special: M...|          28.0|\n",
            "|tt0440157|tvSpecial|The British Comed...|         125.0|\n",
            "|tt0440158|    movie|      Broken Bridges|          96.0|\n",
            "|tt0440166|  tvMovie|      Bump and Grind|          46.0|\n",
            "|tt0440167|  tvMovie|   Burgers/Reizigers|          60.0|\n",
            "|tt0440174|    movie|CD Hoy: Portraits...|          48.0|\n",
            "|tt0440175|    movie|          Cabra-Cega|         107.0|\n",
            "+---------+---------+--------------------+--------------+\n",
            "only showing top 20 rows\n",
            "\n"
          ],
          "name": "stdout"
        }
      ]
    },
    {
      "cell_type": "code",
      "metadata": {
        "id": "XBdaM0XemXPT"
      },
      "source": [
        "# Read in data from S3 Bucket\n",
        "from pyspark import SparkFiles\n",
        "url = \"https://2u-data-curriculum-team.s3.amazonaws.com/dataviz-netflix/ratings.csv\"\n",
        "spark.sparkContext.addFile(url)\n",
        "df2 = spark.read.csv(SparkFiles.get(\"ratings.csv\"), sep=\",\", header=True)"
      ],
      "execution_count": 10,
      "outputs": []
    },
    {
      "cell_type": "code",
      "metadata": {
        "id": "y_YdTk89gmhN"
      },
      "source": [
        "df2.createOrReplaceTempView('ratings')"
      ],
      "execution_count": 11,
      "outputs": []
    },
    {
      "cell_type": "code",
      "metadata": {
        "id": "Wh6JEAl4Q2tg",
        "colab": {
          "base_uri": "https://localhost:8080/"
        },
        "outputId": "ac4099ea-a1ee-44d7-9f45-be3f2bc752ac"
      },
      "source": [
        "df2 = spark.sql(\"SELECT * FROM ratings\")\n",
        "clean_ratings_df=df2.drop(\"numvotes\")\n",
        "clean_ratings_df.show()"
      ],
      "execution_count": 12,
      "outputs": [
        {
          "output_type": "stream",
          "text": [
            "+---------+-------------+\n",
            "|   tconst|averagerating|\n",
            "+---------+-------------+\n",
            "|tt0214461|          7.4|\n",
            "|tt0214659|          6.0|\n",
            "|tt0214878|          6.1|\n",
            "|tt0215244|          3.0|\n",
            "|tt0215402|          8.1|\n",
            "|tt0215423|          8.1|\n",
            "|tt0215458|          5.6|\n",
            "|tt0215785|          5.3|\n",
            "|tt0215972|          5.5|\n",
            "|tt0216247|          8.1|\n",
            "|tt0216705|          7.0|\n",
            "|tt0217135|          5.9|\n",
            "|tt0217143|          6.5|\n",
            "|tt0217196|          7.4|\n",
            "|tt0217629|          7.0|\n",
            "|tt0217769|          5.8|\n",
            "|tt0217824|          6.3|\n",
            "|tt0217836|          2.5|\n",
            "|tt0218182|          6.3|\n",
            "|tt0218440|          6.0|\n",
            "+---------+-------------+\n",
            "only showing top 20 rows\n",
            "\n"
          ],
          "name": "stdout"
        }
      ]
    },
    {
      "cell_type": "code",
      "metadata": {
        "id": "uWN6pXZVPo7p",
        "colab": {
          "base_uri": "https://localhost:8080/"
        },
        "outputId": "81df12c6-f055-4bdc-e655-3eb9d948b3a4"
      },
      "source": [
        "complete_df = clean_professions_df.join(clean_ratings_df, on = ['tconst'])\n",
        "complete_df.show()"
      ],
      "execution_count": 13,
      "outputs": [
        {
          "output_type": "stream",
          "text": [
            "+---------+---------+--------------------+--------------+-------------+\n",
            "|   tconst|titletype|       originaltitle|runtimeminutes|averagerating|\n",
            "+---------+---------+--------------------+--------------+-------------+\n",
            "|tt0439997|    movie|           500 Almas|         105.0|          7.2|\n",
            "|tt0440003|    movie|         A1 tou tiao|          95.0|          5.9|\n",
            "|tt0440004|  tvMovie| AD/BC: A Rock Opera|          30.0|          7.4|\n",
            "|tt0440016|    movie|       Ah ma yau nan|          93.0|          5.5|\n",
            "|tt0440067|    movie|      Bau lit do see|          99.0|          5.4|\n",
            "|tt0440078|  tvMovie|  The Band Aid Story|          95.0|          8.1|\n",
            "|tt0440084|  tvMovie|A Beachcombers Ch...|         120.0|          7.0|\n",
            "|tt0440149|    video|Blink 182: Punk P...|          61.0|          4.1|\n",
            "|tt0440154|  tvMovie|Boogie special: 5...|          26.0|          1.0|\n",
            "|tt0440155|  tvMovie|Boogie special: M...|          28.0|          7.7|\n",
            "|tt0440157|tvSpecial|The British Comed...|         125.0|          6.2|\n",
            "|tt0440158|    movie|      Broken Bridges|          96.0|          7.9|\n",
            "|tt0440167|  tvMovie|   Burgers/Reizigers|          60.0|          6.3|\n",
            "|tt0440175|    movie|          Cabra-Cega|         107.0|          6.3|\n",
            "|tt0440186|    movie|            Cascalho|         104.0|          6.7|\n",
            "|tt0440192|  tvMovie|Celebrate the Sou...|          60.0|          7.6|\n",
            "|tt0440200|    movie|Cheng chong chui ...|          95.0|          5.5|\n",
            "|tt0440202|    video|The China Syndrom...|          28.0|          5.5|\n",
            "|tt0440203|    video|The China Syndrom...|          30.0|          4.9|\n",
            "|tt0440205|  tvMovie|    Christmas Lights|          68.0|          6.7|\n",
            "+---------+---------+--------------------+--------------+-------------+\n",
            "only showing top 20 rows\n",
            "\n"
          ],
          "name": "stdout"
        }
      ]
    },
    {
      "cell_type": "code",
      "metadata": {
        "id": "p1_1p39dPrMN",
        "colab": {
          "base_uri": "https://localhost:8080/"
        },
        "outputId": "5423d71c-37bd-4d99-e999-4139c27586dd"
      },
      "source": [
        "from datetime import timedelta\n",
        "from pyspark.sql.functions import udf\n",
        "def minutesToHourMinutes(minuteString = \"0.0\"):\n",
        "  \n",
        "  \n",
        "  if minuteString:\n",
        "    minutesAsFloat = float(minuteString)\n",
        "    return str(timedelta(minutes=minutesAsFloat))[:-3]\n",
        "  else:\n",
        "    return \"0:0\"\n",
        "\n",
        "minutesToHourMinutesUdf = udf(lambda z: minutesToHourMinutes(z), StringType())\n",
        "spark.udf.register(\"minutesToHourMinutesUdf\", minutesToHourMinutesUdf)\n",
        "\n",
        "newTitleDf = complete_df.withColumn(\"formatted_hhmm\", minutesToHourMinutesUdf(\"runtimeminutes\"))\n",
        "newTitleDf.show(10)"
      ],
      "execution_count": 21,
      "outputs": [
        {
          "output_type": "stream",
          "text": [
            "+---------+---------+--------------------+--------------+-------------+--------------+\n",
            "|   tconst|titletype|       originaltitle|runtimeminutes|averagerating|formatted_hhmm|\n",
            "+---------+---------+--------------------+--------------+-------------+--------------+\n",
            "|tt0439997|    movie|           500 Almas|         105.0|          7.2|          1:45|\n",
            "|tt0440003|    movie|         A1 tou tiao|          95.0|          5.9|          1:35|\n",
            "|tt0440004|  tvMovie| AD/BC: A Rock Opera|          30.0|          7.4|          0:30|\n",
            "|tt0440016|    movie|       Ah ma yau nan|          93.0|          5.5|          1:33|\n",
            "|tt0440067|    movie|      Bau lit do see|          99.0|          5.4|          1:39|\n",
            "|tt0440078|  tvMovie|  The Band Aid Story|          95.0|          8.1|          1:35|\n",
            "|tt0440084|  tvMovie|A Beachcombers Ch...|         120.0|          7.0|          2:00|\n",
            "|tt0440149|    video|Blink 182: Punk P...|          61.0|          4.1|          1:01|\n",
            "|tt0440154|  tvMovie|Boogie special: 5...|          26.0|          1.0|          0:26|\n",
            "|tt0440155|  tvMovie|Boogie special: M...|          28.0|          7.7|          0:28|\n",
            "+---------+---------+--------------------+--------------+-------------+--------------+\n",
            "only showing top 10 rows\n",
            "\n"
          ],
          "name": "stdout"
        }
      ]
    },
    {
      "cell_type": "code",
      "metadata": {
        "id": "RjGROUjgXfqB",
        "colab": {
          "base_uri": "https://localhost:8080/"
        },
        "outputId": "89e78f49-0c0b-4d02-fba8-7da36528471a"
      },
      "source": [
        "##################### Requirement 3 #################################\n",
        "\n",
        "# Read in data from S3 Buckets\n",
        "from pyspark import SparkFiles\n",
        "url = \"https://2u-data-curriculum-team.s3.amazonaws.com/dataviz-netflix/filteredPrincipals.csv\"\n",
        "spark.sparkContext.addFile(url)\n",
        "fp_df = spark.read.csv(SparkFiles.get(\"filteredPrincipals.csv\"), sep=\",\", header=True)\n",
        "\n",
        "# Show DataFrame\n",
        "fp_df.show()"
      ],
      "execution_count": 15,
      "outputs": [
        {
          "output_type": "stream",
          "text": [
            "+----------+--------+---------+---------------+----+-----------------+\n",
            "|    tconst|ordering|   nconst|       category| job|       characters|\n",
            "+----------+--------+---------+---------------+----+-----------------+\n",
            "|tt12189034|       6|nm5943320|          actor|null|      \"[\"\"Lee\"\"]\"|\n",
            "|tt12189034|       6|nm5943320|          actor|null|      \"[\"\"Lee\"\"]\"|\n",
            "|tt12189034|       6|nm5943320|          actor|null|      \"[\"\"Lee\"\"]\"|\n",
            "|tt12189034|       6|nm5943320|          actor|null|      \"[\"\"Lee\"\"]\"|\n",
            "|tt12189034|       8|nm7672770|          actor|null|\"[\"\"Detective\"\"]\"|\n",
            "|tt12189034|       8|nm7672770|          actor|null|\"[\"\"Detective\"\"]\"|\n",
            "|tt12189034|       8|nm7672770|          actor|null|\"[\"\"Detective\"\"]\"|\n",
            "|tt12189034|       8|nm7672770|          actor|null|\"[\"\"Detective\"\"]\"|\n",
            "|tt12190374|       3|nm0767339|cinematographer|null|             null|\n",
            "|tt12190374|       3|nm0767339|cinematographer|null|             null|\n",
            "|tt12190374|       3|nm0767339|cinematographer|null|             null|\n",
            "|tt12190374|       3|nm0767339|cinematographer|null|             null|\n",
            "| tt1219128|       2|nm2698001|        actress|null|             null|\n",
            "| tt1219128|       2|nm2698001|        actress|null|             null|\n",
            "| tt1219128|       2|nm2698001|        actress|null|             null|\n",
            "| tt1219128|       2|nm2698001|        actress|null|             null|\n",
            "|tt12191898|       2|nm8435168|          actor|null|    \"[\"\"Quavo\"\"]\"|\n",
            "|tt12191898|       2|nm8435168|          actor|null|    \"[\"\"Quavo\"\"]\"|\n",
            "|tt12191898|       2|nm8435168|          actor|null|    \"[\"\"Quavo\"\"]\"|\n",
            "|tt12191898|       2|nm8435168|          actor|null|    \"[\"\"Quavo\"\"]\"|\n",
            "+----------+--------+---------+---------------+----+-----------------+\n",
            "only showing top 20 rows\n",
            "\n"
          ],
          "name": "stdout"
        }
      ]
    },
    {
      "cell_type": "code",
      "metadata": {
        "colab": {
          "base_uri": "https://localhost:8080/"
        },
        "id": "UEj0u9LOQVxZ",
        "outputId": "999e29ae-3b10-41ca-e520-0d2181a7c7c3"
      },
      "source": [
        "fp_df.orderBy(fp_df[\"category\"].desc()).show()"
      ],
      "execution_count": 16,
      "outputs": [
        {
          "output_type": "stream",
          "text": [
            "+----------+--------+----------+--------+--------------------+----------+\n",
            "|    tconst|ordering|    nconst|category|                 job|characters|\n",
            "+----------+--------+----------+--------+--------------------+----------+\n",
            "| tt3257624|       6| nm6026527|  writer|        story editor|      null|\n",
            "| tt1396634|       2| nm1112737|  writer|              writer|      null|\n",
            "| tt3281548|       6| nm0017301|  writer|based on the nove...|      null|\n",
            "|tt12204050|       8|nm11523934|  writer|                null|      null|\n",
            "| tt3281548|       6| nm0017301|  writer|based on the nove...|      null|\n",
            "| tt1220717|       6| nm1658333|  writer|based on the nove...|      null|\n",
            "| tt3281548|       6| nm0017301|  writer|based on the nove...|      null|\n",
            "| tt1220717|       6| nm1658333|  writer|based on the nove...|      null|\n",
            "| tt3281548|       6| nm0017301|  writer|based on the nove...|      null|\n",
            "| tt9782790|       5| nm3744684|  writer|       script writer|      null|\n",
            "| tt1396525|       6| nm1771584|  writer|                null|      null|\n",
            "| tt9782790|       5| nm3744684|  writer|       script writer|      null|\n",
            "| tt1220717|       6| nm1658333|  writer|based on the nove...|      null|\n",
            "|tt13958184|       4|nm12281240|  writer|                null|      null|\n",
            "|tt12453028|       3| nm1683683|  writer|              writer|      null|\n",
            "|tt13964462|       3| nm9747455|  writer|          written by|      null|\n",
            "|tt12453028|       3| nm1683683|  writer|              writer|      null|\n",
            "|tt13964462|       3| nm9747455|  writer|          written by|      null|\n",
            "| tt9782790|       5| nm3744684|  writer|       script writer|      null|\n",
            "| tt1396525|       6| nm1771584|  writer|                null|      null|\n",
            "+----------+--------+----------+--------+--------------------+----------+\n",
            "only showing top 20 rows\n",
            "\n"
          ],
          "name": "stdout"
        }
      ]
    },
    {
      "cell_type": "code",
      "metadata": {
        "colab": {
          "base_uri": "https://localhost:8080/"
        },
        "id": "yAaQxoBlQqs2",
        "outputId": "6c497036-9bd0-4f62-d34a-85a67521bbfe"
      },
      "source": [
        "fp_df.filter(fp_df.job == \"producer\").show(truncate=False)"
      ],
      "execution_count": 17,
      "outputs": [
        {
          "output_type": "stream",
          "text": [
            "+----------+--------+----------+--------+--------+----------+\n",
            "|tconst    |ordering|nconst    |category|job     |characters|\n",
            "+----------+--------+----------+--------+--------+----------+\n",
            "|tt12193904|5       |nm11519930|producer|producer|null      |\n",
            "|tt12193904|5       |nm11519930|producer|producer|null      |\n",
            "|tt12193904|5       |nm11519930|producer|producer|null      |\n",
            "|tt12193904|5       |nm11519930|producer|producer|null      |\n",
            "|tt12198108|5       |nm11519930|producer|producer|null      |\n",
            "|tt12198108|5       |nm11519930|producer|producer|null      |\n",
            "|tt12198108|5       |nm11519930|producer|producer|null      |\n",
            "|tt12198108|5       |nm11519930|producer|producer|null      |\n",
            "|tt9234450 |9       |nm3882588 |producer|producer|null      |\n",
            "|tt9234450 |9       |nm3882588 |producer|producer|null      |\n",
            "|tt9234450 |9       |nm3882588 |producer|producer|null      |\n",
            "|tt9234450 |9       |nm3882588 |producer|producer|null      |\n",
            "|tt3263638 |5       |nm0588711 |producer|producer|null      |\n",
            "|tt3263638 |5       |nm0588711 |producer|producer|null      |\n",
            "|tt3263638 |5       |nm0588711 |producer|producer|null      |\n",
            "|tt3263638 |5       |nm0588711 |producer|producer|null      |\n",
            "|tt3285884 |6       |nm1622110 |producer|producer|null      |\n",
            "|tt3285884 |6       |nm1622110 |producer|producer|null      |\n",
            "|tt3285884 |6       |nm1622110 |producer|producer|null      |\n",
            "|tt3285884 |6       |nm1622110 |producer|producer|null      |\n",
            "+----------+--------+----------+--------+--------+----------+\n",
            "only showing top 20 rows\n",
            "\n"
          ],
          "name": "stdout"
        }
      ]
    },
    {
      "cell_type": "code",
      "metadata": {
        "colab": {
          "base_uri": "https://localhost:8080/"
        },
        "id": "3Gh2M01VQz0-",
        "outputId": "1bf12288-2ec4-468b-e901-34a8d8d43518"
      },
      "source": [
        "# Read in data from S3 Buckets\n",
        "from pyspark import SparkFiles\n",
        "url = \"https://2u-data-curriculum-team.s3.amazonaws.com/dataviz-netflix/filterNames.csv\"\n",
        "spark.sparkContext.addFile(url)\n",
        "fn_df = spark.read.csv(SparkFiles.get(\"filterNames.csv\"), sep=\",\", header=True)\n",
        "\n",
        "# Show DataFrame\n",
        "fn_df.show()"
      ],
      "execution_count": 18,
      "outputs": [
        {
          "output_type": "stream",
          "text": [
            "+---------+------------------+---------+---------+--------------------+--------------------+---------+\n",
            "|   nconst|       primaryname|birthyear|deathyear|   primaryprofession|      knownfortitles| knownFor|\n",
            "+---------+------------------+---------+---------+--------------------+--------------------+---------+\n",
            "|nm0458594|     Roger Kleiber|     null|     null|visual_effects,ed...|tt0405022,tt19579...|tt0497467|\n",
            "|nm0458601|        Mark Kleid|     null|     null|               actor|tt0105041,tt01120...|tt0277615|\n",
            "|nm0458616|      Mark Kleiman|     null|     null|editor,producer,m...|tt0196091,tt01256...|tt0972846|\n",
            "|nm0458617|   Michael Kleiman|     1969|     null|camera_department...|tt0913354,tt04311...|tt0431197|\n",
            "|nm0458618|      Naum Kleiman|     1937|     null|director,actor,wr...|tt3066262,tt64875...|tt3066262|\n",
            "|nm0458648|     Andreas Klein|     null|     null|producer,executiv...|tt0311429,tt03139...|tt0311429|\n",
            "|nm0458656|      Arthur Klein|     null|     null|editorial_departm...|tt0106925,tt13375...|tt1337579|\n",
            "|nm0458664|        Bart Klein|     null|     null|               actor|tt0830854,tt03064...|tt0306413|\n",
            "|nm0458674|Bonnie Sherr Klein|     1941|     null|director,producer...|tt0227531,tt02242...|tt5492464|\n",
            "|nm0458680|       Butch Klein|     null|     null| actor,miscellaneous|tt7255502,tt04417...|tt3609352|\n",
            "|nm0458680|       Butch Klein|     null|     null| actor,miscellaneous|tt7255502,tt04417...|tt0285331|\n",
            "|nm0458690|    Cathleen Klein|     null|     null|visual_effects,sp...|tt4154796,tt18256...|tt1825683|\n",
            "|nm0458690|    Cathleen Klein|     null|     null|visual_effects,sp...|tt4154796,tt18256...|tt1843866|\n",
            "|nm0458719|     Dietmar Klein|     1956|     null|director,writer,c...|tt0100652,tt01203...|tt0330426|\n",
            "|nm0458723|    E. Niles Klein|     null|     null|    sound_department|tt0285531,tt10534...|tt0285531|\n",
            "|nm0458723|    E. Niles Klein|     null|     null|    sound_department|tt0285531,tt10534...|tt0431197|\n",
            "|nm0458728|      Edward Klein|     1936|     null|                null|tt9170254,tt36511...|tt3651106|\n",
            "|nm0458734| Ellyn Klein Golub|     null|     null|miscellaneous,pro...|tt2262227,tt02683...|tt0268397|\n",
            "|nm0458747|       Frank Klein|     null|     null|miscellaneous,pro...|tt0297284,tt18953...|tt0297284|\n",
            "|nm0458750|        Gary Klein|     null|     null|music_department,...|tt0082958,tt00775...|tt0249238|\n",
            "+---------+------------------+---------+---------+--------------------+--------------------+---------+\n",
            "only showing top 20 rows\n",
            "\n"
          ],
          "name": "stdout"
        }
      ]
    },
    {
      "cell_type": "code",
      "metadata": {
        "colab": {
          "base_uri": "https://localhost:8080/"
        },
        "id": "HSHkNbLPRjO6",
        "outputId": "06deb059-14fa-434e-c6e0-d13856d85587"
      },
      "source": [
        "fn_df.filter(fn_df.primaryprofession == \"producer\").show(truncate=False)"
      ],
      "execution_count": 19,
      "outputs": [
        {
          "output_type": "stream",
          "text": [
            "+---------+------------------+---------+---------+-----------------+----------------------------------------+----------+\n",
            "|nconst   |primaryname       |birthyear|deathyear|primaryprofession|knownfortitles                          |knownFor  |\n",
            "+---------+------------------+---------+---------+-----------------+----------------------------------------+----------+\n",
            "|nm0460805|Arlene Knight     |null     |null     |producer         |tt4524446,tt4082122,tt3685368,tt2728252 |tt4524446 |\n",
            "|nm0462049|Sachiko Kobayashi |null     |null     |producer         |tt5498350,tt0092963,tt0234669,tt6413988 |tt6413988 |\n",
            "|nm0459057|Katharina Kleine  |null     |null     |producer         |tt0108979,tt0196264,tt0235930,tt0106178 |tt0235930 |\n",
            "|nm0459354|Daniel S. Kletzky |null     |null     |producer         |tt0317676,tt0120804,tt0173840,tt0398913 |tt0120804 |\n",
            "|nm0459859|Alex Klippel      |null     |null     |producer         |tt0333986,tt0259853,tt0257986,tt2353967 |tt0257986 |\n",
            "|nm0459275|Hartmut Klenke    |null     |null     |producer         |tt0109741,tt0111430,tt0316967,tt2769254 |tt2769254 |\n",
            "|nm0459354|Daniel S. Kletzky |null     |null     |producer         |tt0317676,tt0120804,tt0173840,tt0398913 |tt0398913 |\n",
            "|nm0459782|Shantel Klinger   |null     |null     |producer         |tt0791275,tt0840061,tt0205656,tt0313038 |tt0840061 |\n",
            "|nm0461396|Patrick Lam       |null     |null     |producer         |tt4392726                               |tt4392726 |\n",
            "|nm0462639|Morihiro Kodama   |null     |null     |producer         |tt0384819,tt0386130,tt0340227,tt0303658 |tt0340227 |\n",
            "|nm7738852|Mari Bonnemaison  |null     |null     |producer         |tt5210554                               |tt5210554 |\n",
            "|nm7738931|Teennick Top10    |null     |null     |producer         |tt5171344                               |tt5171344 |\n",
            "|nm7739930|Dee Smith         |null     |null     |producer         |tt5212226                               |tt5212226 |\n",
            "|nm7740103|Max Arvelaiz      |null     |null     |producer         |tt5669410,tt6938828,tt3774114,tt5974030 |tt3774114 |\n",
            "|nm7740466|Chantal Rickards  |null     |null     |producer         |tt7595752,tt9261788,tt5207936,tt6417850 |tt7595752 |\n",
            "|nm7740526|Mark L. Smith     |null     |null     |producer         |tt5212746                               |tt5212746 |\n",
            "|nm7740873|Daeun Kim         |null     |null     |producer         |tt3280730,tt5212998                     |tt3280730 |\n",
            "|nm7741033|Jeffrey Pechter   |null     |null     |producer         |tt10011320,tt7475540,tt7355708,tt7543058|tt7475540 |\n",
            "|nm7741184|Mo El Hami        |null     |null     |producer         |tt5213410                               |tt5213410 |\n",
            "|nm7741454|Jean-Claude Sercer|null     |null     |producer         |tt11681490,tt1894487                    |tt11681490|\n",
            "+---------+------------------+---------+---------+-----------------+----------------------------------------+----------+\n",
            "only showing top 20 rows\n",
            "\n"
          ],
          "name": "stdout"
        }
      ]
    },
    {
      "cell_type": "code",
      "metadata": {
        "colab": {
          "base_uri": "https://localhost:8080/"
        },
        "id": "-1FSZ1I7RmSJ",
        "outputId": "d6315e68-1da9-4b0c-965a-1c35879d0a3b"
      },
      "source": [
        "fn_df.drop('nconst','birthyear','deathyear','knownfortitles','knownFor').filter(fn_df.primaryprofession == \"producer\").show(truncate=False)"
      ],
      "execution_count": 20,
      "outputs": [
        {
          "output_type": "stream",
          "text": [
            "+------------------+-----------------+\n",
            "|primaryname       |primaryprofession|\n",
            "+------------------+-----------------+\n",
            "|Arlene Knight     |producer         |\n",
            "|Sachiko Kobayashi |producer         |\n",
            "|Katharina Kleine  |producer         |\n",
            "|Daniel S. Kletzky |producer         |\n",
            "|Alex Klippel      |producer         |\n",
            "|Hartmut Klenke    |producer         |\n",
            "|Daniel S. Kletzky |producer         |\n",
            "|Shantel Klinger   |producer         |\n",
            "|Patrick Lam       |producer         |\n",
            "|Morihiro Kodama   |producer         |\n",
            "|Mari Bonnemaison  |producer         |\n",
            "|Teennick Top10    |producer         |\n",
            "|Dee Smith         |producer         |\n",
            "|Max Arvelaiz      |producer         |\n",
            "|Chantal Rickards  |producer         |\n",
            "|Mark L. Smith     |producer         |\n",
            "|Daeun Kim         |producer         |\n",
            "|Jeffrey Pechter   |producer         |\n",
            "|Mo El Hami        |producer         |\n",
            "|Jean-Claude Sercer|producer         |\n",
            "+------------------+-----------------+\n",
            "only showing top 20 rows\n",
            "\n"
          ],
          "name": "stdout"
        }
      ]
    },
    {
      "cell_type": "code",
      "metadata": {
        "id": "_clb3ub0RoY8"
      },
      "source": [
        "#################### Requirement 4 ##########################\n"
      ],
      "execution_count": 29,
      "outputs": []
    },
    {
      "cell_type": "code",
      "metadata": {
        "id": "yRnWBlIQmMzc"
      },
      "source": [
        ""
      ],
      "execution_count": 29,
      "outputs": []
    },
    {
      "cell_type": "code",
      "metadata": {
        "id": "MUfngYhamPKj"
      },
      "source": [
        ""
      ],
      "execution_count": 29,
      "outputs": []
    },
    {
      "cell_type": "code",
      "metadata": {
        "id": "eI3yqPeYmkAY"
      },
      "source": [
        ""
      ],
      "execution_count": 29,
      "outputs": []
    },
    {
      "cell_type": "code",
      "metadata": {
        "id": "mPjJK5THmp1X"
      },
      "source": [
        ""
      ],
      "execution_count": null,
      "outputs": []
    }
  ]
}